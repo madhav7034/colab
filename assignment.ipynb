{
  "nbformat": 4,
  "nbformat_minor": 0,
  "metadata": {
    "colab": {
      "provenance": [],
      "authorship_tag": "ABX9TyNhThPctbvTFYSj/2Ec7OG7",
      "include_colab_link": true
    },
    "kernelspec": {
      "name": "python3",
      "display_name": "Python 3"
    },
    "language_info": {
      "name": "python"
    }
  },
  "cells": [
    {
      "cell_type": "markdown",
      "metadata": {
        "id": "view-in-github",
        "colab_type": "text"
      },
      "source": [
        "<a href=\"https://colab.research.google.com/github/madhav7034/colab/blob/main/assignment.ipynb\" target=\"_parent\"><img src=\"https://colab.research.google.com/assets/colab-badge.svg\" alt=\"Open In Colab\"/></a>"
      ]
    },
    {
      "cell_type": "code",
      "execution_count": null,
      "metadata": {
        "colab": {
          "base_uri": "https://localhost:8080/"
        },
        "id": "xENby0gA_HK9",
        "outputId": "53bb3231-503e-44c3-e7f6-e71ab6f8fb2f"
      },
      "outputs": [
        {
          "output_type": "stream",
          "name": "stdout",
          "text": [
            "Enter the radius: 3\n",
            "Area of the circle is 28.26\n"
          ]
        }
      ],
      "source": [
        "#1 Area of circle\n",
        "\n",
        "x = int(input(\"Enter the radius: \"))\n",
        "y = (3.14) * (x ** 2)\n",
        "print(f\"Area of the circle is {y}\")"
      ]
    },
    {
      "cell_type": "code",
      "source": [
        "#2 Personal details\n",
        "\n",
        "x = input(\"Enter your name: \")\n",
        "y = input(\"Enter roll number: \")\n",
        "z = int(input(\"Enter Marks: \"))\n",
        "\n",
        "print(f'Name: {x}')\n",
        "print(f'Roll Number: {y}')\n",
        "print(f'Marks: {z}')"
      ],
      "metadata": {
        "colab": {
          "base_uri": "https://localhost:8080/"
        },
        "id": "jppRHRXcBVIU",
        "outputId": "16e3c6ea-fde2-4721-9ea3-294654c7681e"
      },
      "execution_count": null,
      "outputs": [
        {
          "output_type": "stream",
          "name": "stdout",
          "text": [
            "Enter your name: Anisha\n",
            "Enter roll number: 21\n",
            "Enter Marks: 78\n",
            "Name: Anisha\n",
            "Roll Number: 21\n",
            "Marks: 78\n"
          ]
        }
      ]
    },
    {
      "cell_type": "code",
      "source": [
        "#3 Largest Number\n",
        "\n",
        "x = input(\"Enter the numbers: \").split(',')\n",
        "y = [int(num) for num in x]\n",
        "print(f'The maximum number is {max(y)}.')"
      ],
      "metadata": {
        "colab": {
          "base_uri": "https://localhost:8080/"
        },
        "id": "UhJ0wtakB6iz",
        "outputId": "85f05337-9321-411a-ce7f-0e728895db4f"
      },
      "execution_count": null,
      "outputs": [
        {
          "output_type": "stream",
          "name": "stdout",
          "text": [
            "Enter the numbers: 12,3,47,10\n",
            "The maximum number is 47.\n"
          ]
        }
      ]
    },
    {
      "cell_type": "code",
      "source": [
        "#4 Iterate from start number to end number\n",
        "\n",
        "p = 0\n",
        "for c in range(1, 10 + 1):\n",
        "    total = c + p\n",
        "    print(f\"Current Number {c} Previous Number {p} Sum: {total}\")\n",
        "    p = c"
      ],
      "metadata": {
        "colab": {
          "base_uri": "https://localhost:8080/"
        },
        "id": "6myNZX0iDDiL",
        "outputId": "c6bc4204-b334-40cd-f9ff-3d5de24c8181"
      },
      "execution_count": null,
      "outputs": [
        {
          "output_type": "stream",
          "name": "stdout",
          "text": [
            "Current Number 1 Previous Number 0 Sum: 1\n",
            "Current Number 2 Previous Number 1 Sum: 3\n",
            "Current Number 3 Previous Number 2 Sum: 5\n",
            "Current Number 4 Previous Number 3 Sum: 7\n",
            "Current Number 5 Previous Number 4 Sum: 9\n",
            "Current Number 6 Previous Number 5 Sum: 11\n",
            "Current Number 7 Previous Number 6 Sum: 13\n",
            "Current Number 8 Previous Number 7 Sum: 15\n",
            "Current Number 9 Previous Number 8 Sum: 17\n",
            "Current Number 10 Previous Number 9 Sum: 19\n"
          ]
        }
      ]
    },
    {
      "cell_type": "code",
      "source": [
        "#5 Divisible by 5\n",
        "\n",
        "x= input(\"Enter Numbers : \").split(',')\n",
        "x = [int(i) for i in x]\n",
        "for num in x :\n",
        "  if num % 5 == 0 :\n",
        "      print(num)"
      ],
      "metadata": {
        "colab": {
          "base_uri": "https://localhost:8080/"
        },
        "id": "W8AdyW5RI3Lz",
        "outputId": "9d605e07-8bc1-4836-e1bc-e23878d93688"
      },
      "execution_count": null,
      "outputs": [
        {
          "output_type": "stream",
          "name": "stdout",
          "text": [
            "Enter Numbers : 10, 20,33,46,55\n",
            "10\n",
            "20\n",
            "55\n"
          ]
        }
      ]
    },
    {
      "cell_type": "code",
      "source": [
        "#6 prime number\n",
        "\n",
        "num = int(input(\"Enter the number: \"))\n",
        "if num <= 1:\n",
        "    print(f\"{num} is not a prime number.\")\n",
        "else:\n",
        "    for i in range(2, int(num ** 0.5) + 1):\n",
        "        if num % i == 0:\n",
        "            print(f\"{num} is not a prime number.\")\n",
        "            break\n",
        "    else:\n",
        "        print(f\"{num} is a prime number.\")"
      ],
      "metadata": {
        "colab": {
          "base_uri": "https://localhost:8080/"
        },
        "id": "LaY435boJYi4",
        "outputId": "7e4c3227-dddf-454a-ee18-b8f10bdc1fd3"
      },
      "execution_count": null,
      "outputs": [
        {
          "output_type": "stream",
          "name": "stdout",
          "text": [
            "Enter the number: 12\n",
            "12 is not a prime number.\n"
          ]
        }
      ]
    },
    {
      "cell_type": "code",
      "source": [
        "#7 Reverse list\n",
        "\n",
        "x = [10,40,30,70]\n",
        "y = []\n",
        "for i in range(len(x)-1 , -1, -1):\n",
        "  y.append(x[i])\n",
        "\n",
        "print(y)"
      ],
      "metadata": {
        "colab": {
          "base_uri": "https://localhost:8080/"
        },
        "id": "6ajQDOf-LhJF",
        "outputId": "e2e7cd1e-e0b7-41ac-bdac-1c16a913a643"
      },
      "execution_count": null,
      "outputs": [
        {
          "output_type": "stream",
          "name": "stdout",
          "text": [
            "[70, 30, 40, 10]\n"
          ]
        }
      ]
    },
    {
      "cell_type": "code",
      "source": [
        "#8 Print pattern\n",
        "\n",
        "for i in range(1, 5):\n",
        "    print('*' * i)"
      ],
      "metadata": {
        "colab": {
          "base_uri": "https://localhost:8080/"
        },
        "id": "Zi7RbSR6MQ3d",
        "outputId": "9e6ff1de-7ea2-46a8-d3e9-3062c895ee12"
      },
      "execution_count": null,
      "outputs": [
        {
          "output_type": "stream",
          "name": "stdout",
          "text": [
            "*\n",
            "**\n",
            "***\n",
            "****\n"
          ]
        }
      ]
    },
    {
      "cell_type": "code",
      "source": [
        "#9 Max of 3 numbers\n",
        "\n",
        "num = input(\"Enter the numbers: \")\n",
        "a, b, c = [int(x) for x in num.split(',')]\n",
        "print(\"Maximum number is:\", max(a, b, c))"
      ],
      "metadata": {
        "colab": {
          "base_uri": "https://localhost:8080/"
        },
        "id": "77WuxCMLMgde",
        "outputId": "3f230f00-54c3-4f6a-d7aa-c9acc589eb0a"
      },
      "execution_count": null,
      "outputs": [
        {
          "output_type": "stream",
          "name": "stdout",
          "text": [
            "Enter the numbers: 12,14,90\n",
            "Maximum number is: 90\n"
          ]
        }
      ]
    },
    {
      "cell_type": "code",
      "source": [
        "#10 Pattern\n",
        "\n",
        "for i in range(1,6):\n",
        "  print('*' * i)\n",
        "\n",
        "for i in range(4, 0, -1):\n",
        "  print('*' * i)"
      ],
      "metadata": {
        "colab": {
          "base_uri": "https://localhost:8080/"
        },
        "id": "4mZjtW_CO4pX",
        "outputId": "652a7cc8-8200-44b6-bc2f-e5b7a14845d5"
      },
      "execution_count": null,
      "outputs": [
        {
          "output_type": "stream",
          "name": "stdout",
          "text": [
            "*\n",
            "**\n",
            "***\n",
            "****\n",
            "*****\n",
            "****\n",
            "***\n",
            "**\n",
            "*\n"
          ]
        }
      ]
    },
    {
      "cell_type": "code",
      "source": [
        "#11 Positive, Negative or Zero\n",
        "\n",
        "num = float(input(\"Enter a number: \"))\n",
        "if num > 0:\n",
        "    print(\"The number is positive\")\n",
        "elif num < 0:\n",
        "    print(\"The number is negative\")\n",
        "else:\n",
        "    print(\"The number is zero\")"
      ],
      "metadata": {
        "colab": {
          "base_uri": "https://localhost:8080/"
        },
        "id": "VnTKPBoGP54X",
        "outputId": "c11463da-d96c-4da2-fdfa-19bea8cd94e6"
      },
      "execution_count": null,
      "outputs": [
        {
          "output_type": "stream",
          "name": "stdout",
          "text": [
            "Enter a number: -12\n",
            "The number is negative\n"
          ]
        }
      ]
    },
    {
      "cell_type": "code",
      "source": [
        "#12 Odd or Even\n",
        "\n",
        "num =  int(input(\"Enter a number: \"))\n",
        "if num % 2 ==0:\n",
        "  print (f\"The {num} is even\")\n",
        "else:\n",
        "  print(f\"The {num} is odd\")"
      ],
      "metadata": {
        "colab": {
          "base_uri": "https://localhost:8080/"
        },
        "id": "VqPQdnzLQv_x",
        "outputId": "c47ec445-535a-410a-9638-4df8905df898"
      },
      "execution_count": null,
      "outputs": [
        {
          "output_type": "stream",
          "name": "stdout",
          "text": [
            "Enter a number: 23\n",
            "The 23 is odd\n"
          ]
        }
      ]
    },
    {
      "cell_type": "code",
      "source": [
        "#13 Grade\n",
        "marks = int(input(\"Enter the marks ): \"))\n",
        "if 90 <= marks <= 100:\n",
        "    print(\"Grade: A\")\n",
        "elif 80 <= marks <= 89:\n",
        "    print(\"Grade: B\")\n",
        "elif 70 <= marks <= 79:\n",
        "    print(\"Grade: C\")\n",
        "elif 60 <= marks <= 69:\n",
        "    print(\"Grade: D\")\n",
        "elif 0 <= marks < 60:\n",
        "    print(\"Grade: Fail\")\n"
      ],
      "metadata": {
        "colab": {
          "base_uri": "https://localhost:8080/"
        },
        "id": "HNE8FJLyQ1TU",
        "outputId": "05812c25-8cf2-443f-e044-948b0ff750ed"
      },
      "execution_count": null,
      "outputs": [
        {
          "output_type": "stream",
          "name": "stdout",
          "text": [
            "Enter the marks ): 23\n",
            "Grade: Fail\n"
          ]
        }
      ]
    },
    {
      "cell_type": "code",
      "source": [
        "#14 Leap Year\n",
        "\n",
        "i = int (input(\"Enter the year: \"))\n",
        "if i % 4 == 0 :\n",
        "  print(\"Leap year\")\n",
        "else :\n",
        "    print(\"Not a leap year\")"
      ],
      "metadata": {
        "colab": {
          "base_uri": "https://localhost:8080/"
        },
        "id": "0le17k0URs4L",
        "outputId": "d5ae74e4-077d-4e82-917b-5a976b6797d3"
      },
      "execution_count": null,
      "outputs": [
        {
          "output_type": "stream",
          "name": "stdout",
          "text": [
            "Enter the year: 2000\n",
            "Leap year\n"
          ]
        }
      ]
    },
    {
      "cell_type": "code",
      "source": [
        "#15 Numbers from 1 to N\n",
        "\n",
        "n = int(input(\"Enter a number: \"))\n",
        "for i in range(1, n + 1):\n",
        "    print(i)"
      ],
      "metadata": {
        "colab": {
          "base_uri": "https://localhost:8080/"
        },
        "id": "M62HOfgWTjkc",
        "outputId": "f9dbe88e-de15-495c-ce90-77a0fd5813fe"
      },
      "execution_count": null,
      "outputs": [
        {
          "output_type": "stream",
          "name": "stdout",
          "text": [
            "Enter a number: 3\n",
            "1\n",
            "2\n",
            "3\n"
          ]
        }
      ]
    },
    {
      "cell_type": "code",
      "source": [
        "#16 Sum of first N natural numbers\n",
        "\n",
        "n = int(input(\"Enter a number: \"))\n",
        "total = 0\n",
        "for i in range(1, n + 1):\n",
        "    total += i\n",
        "print(\"Sum:\", total)"
      ],
      "metadata": {
        "colab": {
          "base_uri": "https://localhost:8080/"
        },
        "id": "x2LZa05UT5hv",
        "outputId": "710d3041-5747-4f50-e387-0f63ac3b9098"
      },
      "execution_count": null,
      "outputs": [
        {
          "output_type": "stream",
          "name": "stdout",
          "text": [
            "Enter a number: 3\n",
            "Sum: 6\n"
          ]
        }
      ]
    },
    {
      "cell_type": "code",
      "source": [
        "#17 Multiplication table\n",
        "\n",
        "num = int(input(\"Enter a number: \"))\n",
        "for i in range(1, 11):\n",
        "    print(f\"{num} x {i} = {num * i}\")"
      ],
      "metadata": {
        "colab": {
          "base_uri": "https://localhost:8080/"
        },
        "id": "iy6Bnuu7UPKw",
        "outputId": "d8aae9a4-5c01-4b94-a8e9-207f42296e37"
      },
      "execution_count": null,
      "outputs": [
        {
          "output_type": "stream",
          "name": "stdout",
          "text": [
            "Enter a number: 3\n",
            "3 x 1 = 3\n",
            "3 x 2 = 6\n",
            "3 x 3 = 9\n",
            "3 x 4 = 12\n",
            "3 x 5 = 15\n",
            "3 x 6 = 18\n",
            "3 x 7 = 21\n",
            "3 x 8 = 24\n",
            "3 x 9 = 27\n",
            "3 x 10 = 30\n"
          ]
        }
      ]
    },
    {
      "cell_type": "code",
      "source": [
        "#18 Factorial\n",
        "\n",
        "num = int(input(\"Enter a number: \"))\n",
        "factorial = 1\n",
        "for i in range(1, num + 1):\n",
        "    factorial *= i\n",
        "print(f\"Factorial of {num} is {factorial}\")"
      ],
      "metadata": {
        "colab": {
          "base_uri": "https://localhost:8080/"
        },
        "id": "iJecLeVEUirN",
        "outputId": "f7bc1b1a-fca2-4056-fad5-41ee885ea0f7"
      },
      "execution_count": null,
      "outputs": [
        {
          "output_type": "stream",
          "name": "stdout",
          "text": [
            "Enter a number: 5\n",
            "Factorial of 5 is 120\n"
          ]
        }
      ]
    },
    {
      "cell_type": "code",
      "source": [
        "#19 Reverse number\n",
        "\n",
        "num = int(input(\"Enter a number: \"))\n",
        "rev = 0\n",
        "temp = num\n",
        "while temp > 0:\n",
        "    rev = rev * 10 + temp % 10\n",
        "    temp //= 10\n",
        "print(f\"Reversed number: {rev}\")"
      ],
      "metadata": {
        "colab": {
          "base_uri": "https://localhost:8080/"
        },
        "id": "KZ_U6VwHU2Wo",
        "outputId": "c83f02f0-abe8-431a-c46d-a565a3ebc292"
      },
      "execution_count": null,
      "outputs": [
        {
          "output_type": "stream",
          "name": "stdout",
          "text": [
            "Enter a number: 412\n",
            "Reversed number: 214\n"
          ]
        }
      ]
    },
    {
      "cell_type": "code",
      "source": [
        "#20 Count digits\n",
        "\n",
        "num = input(\"Enter a number: \")\n",
        "count = 0\n",
        "for ch in num:\n",
        "    if ch.isdigit():\n",
        "        count += 1\n",
        "print(f\"Number of digits: {count}\")"
      ],
      "metadata": {
        "colab": {
          "base_uri": "https://localhost:8080/"
        },
        "id": "TPDWPMWoVOar",
        "outputId": "24e4dc3c-96f1-4202-8c0e-977d5a54dcef"
      },
      "execution_count": null,
      "outputs": [
        {
          "output_type": "stream",
          "name": "stdout",
          "text": [
            "Enter a number: 1313\n",
            "Number of digits: 4\n"
          ]
        }
      ]
    },
    {
      "cell_type": "code",
      "source": [
        "#21 Right ang triangle\n",
        "\n",
        "N = int(input(\"Enter N: \"))\n",
        "for i in range(1, N + 1):\n",
        "    print('*' * i)"
      ],
      "metadata": {
        "colab": {
          "base_uri": "https://localhost:8080/"
        },
        "id": "1_SZQ3YtVgV7",
        "outputId": "ac6a6db6-b09a-4021-9005-e21b73f8c74d"
      },
      "execution_count": null,
      "outputs": [
        {
          "output_type": "stream",
          "name": "stdout",
          "text": [
            "Enter N: 6\n",
            "*\n",
            "**\n",
            "***\n",
            "****\n",
            "*****\n",
            "******\n"
          ]
        }
      ]
    },
    {
      "cell_type": "code",
      "source": [
        "#22 Number pyramid\n",
        "\n",
        "x = int(input('Enter a number: '))\n",
        "for i in range(1, x + 1):\n",
        "  print(' ' * (x - i), end='')\n",
        "\n",
        "  for j in range(1,i+1):\n",
        "    print(j,end = '')\n",
        "\n",
        "  for k in range(i - 1, 0, -1):\n",
        "    print(k, end = '')\n",
        "\n",
        "  print()"
      ],
      "metadata": {
        "colab": {
          "base_uri": "https://localhost:8080/"
        },
        "id": "1htg70DaVzr2",
        "outputId": "0cd34561-ba35-40f9-abca-a91be798f37e"
      },
      "execution_count": null,
      "outputs": [
        {
          "output_type": "stream",
          "name": "stdout",
          "text": [
            "Enter a number: 7\n",
            "      1\n",
            "     121\n",
            "    12321\n",
            "   1234321\n",
            "  123454321\n",
            " 12345654321\n",
            "1234567654321\n"
          ]
        }
      ]
    },
    {
      "cell_type": "code",
      "source": [
        "#23 First 5 odd numbers\n",
        "\n",
        "counter = 0\n",
        "for i in range(100):\n",
        "  if i % 2 == 1:\n",
        "    print(i)\n",
        "    counter += 1\n",
        "\n",
        "  if counter == 5:\n",
        "    break"
      ],
      "metadata": {
        "colab": {
          "base_uri": "https://localhost:8080/"
        },
        "id": "tkCSbER4WrkH",
        "outputId": "c05f18be-8233-47e7-cf2c-802390ced0a3"
      },
      "execution_count": null,
      "outputs": [
        {
          "output_type": "stream",
          "name": "stdout",
          "text": [
            "1\n",
            "3\n",
            "5\n",
            "7\n",
            "9\n"
          ]
        }
      ]
    },
    {
      "cell_type": "code",
      "source": [
        "#24 Skip multiples of 3\n",
        "for i in range(1, 21):\n",
        "  if i % 3 == 0:\n",
        "    continue\n",
        "  else:\n",
        "    print(i)"
      ],
      "metadata": {
        "colab": {
          "base_uri": "https://localhost:8080/"
        },
        "id": "ldOLAcOZYXn-",
        "outputId": "4a6e57d8-d7b2-4aa9-f664-28a215a6f00d"
      },
      "execution_count": null,
      "outputs": [
        {
          "output_type": "stream",
          "name": "stdout",
          "text": [
            "1\n",
            "2\n",
            "4\n",
            "5\n",
            "7\n",
            "8\n",
            "10\n",
            "11\n",
            "13\n",
            "14\n",
            "16\n",
            "17\n",
            "19\n",
            "20\n"
          ]
        }
      ]
    },
    {
      "cell_type": "code",
      "source": [
        "#25 Pass statement example\n",
        "\n",
        "for i in range(1, 6):\n",
        "    if i == 3:\n",
        "        pass\n",
        "    print(i)"
      ],
      "metadata": {
        "colab": {
          "base_uri": "https://localhost:8080/"
        },
        "id": "qRa_LgBkaW4P",
        "outputId": "717dc991-87b8-4e13-b32d-6225f37227b9"
      },
      "execution_count": null,
      "outputs": [
        {
          "output_type": "stream",
          "name": "stdout",
          "text": [
            "1\n",
            "2\n",
            "3\n",
            "4\n",
            "5\n"
          ]
        }
      ]
    },
    {
      "cell_type": "code",
      "source": [
        "#26 Fibonacci Series\n",
        "\n",
        "n = int(input('Enter a positive number : '))\n",
        "previous_1 = 1\n",
        "previous_2 = 0\n",
        "fibonacci_list = [previous_2]\n",
        "for i in range (n - 1):\n",
        "  current = previous_1 + previous_2\n",
        "  fibonacci_list.append(current)\n",
        "  previous_1 = previous_2\n",
        "  previous_2 = current\n",
        "\n",
        "for i in fibonacci_list:\n",
        "  print(i, end = ' ')"
      ],
      "metadata": {
        "id": "Yd6X6q8ybWhm"
      },
      "execution_count": null,
      "outputs": []
    },
    {
      "cell_type": "code",
      "source": [
        "#27 Sum of digits\n",
        "\n",
        "number = input('Enter a number: ')\n",
        "digits = [int(i) for i in number]\n",
        "sum_of_digits = sum(digits)\n",
        "print(f'Sum of digits is {sum_of_digits}')"
      ],
      "metadata": {
        "colab": {
          "base_uri": "https://localhost:8080/"
        },
        "id": "yASXZRZzclE1",
        "outputId": "45804a4e-083a-4774-e618-6b6abee381c4"
      },
      "execution_count": null,
      "outputs": [
        {
          "output_type": "stream",
          "name": "stdout",
          "text": [
            "Enter a number: 122\n",
            "Sum of digits is 5\n"
          ]
        }
      ]
    },
    {
      "cell_type": "code",
      "source": [
        "#28 Armstrong Number\n",
        "\n",
        "num = int(input(\"Enter a number: \"))\n",
        "sum_of_cubes = 0\n",
        "temp = num\n",
        "while temp > 0:\n",
        "    digit = temp % 10\n",
        "    sum_of_cubes += digit ** 3\n",
        "    temp //= 10\n",
        "if sum_of_cubes == num:\n",
        "    print(\"Armstrong number\")\n",
        "else:\n",
        "    print(\"Not an Armstrong number\")"
      ],
      "metadata": {
        "colab": {
          "base_uri": "https://localhost:8080/"
        },
        "id": "P-n3zvk_djYQ",
        "outputId": "926e2928-501a-4dee-bd1a-2b7b05308483"
      },
      "execution_count": null,
      "outputs": [
        {
          "output_type": "stream",
          "name": "stdout",
          "text": [
            "Enter a number: 153\n",
            "Armstrong number\n"
          ]
        }
      ]
    },
    {
      "cell_type": "code",
      "source": [
        "#29 Reverse string\n",
        "\n",
        "word = input('Enter your string: ')\n",
        "reversed_word = ''.join([i for i in word[-1::-1]])\n",
        "print(f'Reverse string: {reversed_word}')"
      ],
      "metadata": {
        "colab": {
          "base_uri": "https://localhost:8080/"
        },
        "id": "WAuWSBOueonJ",
        "outputId": "059c8f7e-8699-48c1-8f56-aa42a92d4644"
      },
      "execution_count": null,
      "outputs": [
        {
          "output_type": "stream",
          "name": "stdout",
          "text": [
            "Enter your string: hello\n",
            "Reverse string: olleh\n"
          ]
        }
      ]
    },
    {
      "cell_type": "code",
      "source": [
        "#30 Welcome\n",
        "\n",
        "name = input(\"Enter your name: \")\n",
        "print(f\"Welcome, {name}!\")"
      ],
      "metadata": {
        "colab": {
          "base_uri": "https://localhost:8080/"
        },
        "id": "geeyPV5YeyrU",
        "outputId": "dfcae565-819e-414e-e379-7a36aa38eeeb"
      },
      "execution_count": null,
      "outputs": [
        {
          "output_type": "stream",
          "name": "stdout",
          "text": [
            "Enter your name: farhan\n",
            "Welcome, farhan!\n"
          ]
        }
      ]
    },
    {
      "cell_type": "code",
      "source": [
        "#31 Snacks\n",
        "\n",
        "favorite_snack = \"Chips\"\n",
        "print(f\"I love munching on {favorite_snack} during meetings!\")"
      ],
      "metadata": {
        "colab": {
          "base_uri": "https://localhost:8080/"
        },
        "id": "Fs5IG1ccfLCN",
        "outputId": "111a7ba7-bc09-48a7-f26c-7af52dd3fe37"
      },
      "execution_count": null,
      "outputs": [
        {
          "output_type": "stream",
          "name": "stdout",
          "text": [
            "I love munching on Chips during meetings!\n"
          ]
        }
      ]
    },
    {
      "cell_type": "code",
      "source": [
        "#32 Team productivity\n",
        "\n",
        "tasks_this_week = 15\n",
        "tasks_next_week = tasks_this_week * 2\n",
        "print(f\"Expected tasks next week: {tasks_next_week}\")"
      ],
      "metadata": {
        "colab": {
          "base_uri": "https://localhost:8080/"
        },
        "id": "Ns-LsfBzfkpV",
        "outputId": "c41057e7-1a98-4b4a-ec7e-26b978236ce3"
      },
      "execution_count": null,
      "outputs": [
        {
          "output_type": "stream",
          "name": "stdout",
          "text": [
            "Expected tasks next week: 30\n"
          ]
        }
      ]
    },
    {
      "cell_type": "code",
      "source": [
        "#33 Monthy budget\n",
        "\n",
        "income = 20000\n",
        "expenses = 4000\n",
        "savings = income - expenses\n",
        "print(f\"Your Monthly savings: {savings}\")"
      ],
      "metadata": {
        "colab": {
          "base_uri": "https://localhost:8080/"
        },
        "id": "H9bV9khnfujr",
        "outputId": "ed9d3de6-7b14-45bb-fe7b-c04cde8929a8"
      },
      "execution_count": null,
      "outputs": [
        {
          "output_type": "stream",
          "name": "stdout",
          "text": [
            "Your Monthly savings: 16000\n"
          ]
        }
      ]
    },
    {
      "cell_type": "code",
      "source": [
        "#34 Movie night\n",
        "\n",
        "friends = 10\n",
        "popcorn_per_friend = 5\n",
        "total_popcorn = friends * popcorn_per_friend\n",
        "print(f\"Total popcorn bags needed: {total_popcorn}\")"
      ],
      "metadata": {
        "colab": {
          "base_uri": "https://localhost:8080/"
        },
        "id": "sGo2edndgHck",
        "outputId": "087125b4-1633-4bac-eba3-41a2eb9ee344"
      },
      "execution_count": null,
      "outputs": [
        {
          "output_type": "stream",
          "name": "stdout",
          "text": [
            "Total popcorn bags needed: 50\n"
          ]
        }
      ]
    },
    {
      "cell_type": "code",
      "source": [
        "#35 Product review\n",
        "\n",
        "rating = int(input(\"Enter the product rating (1-5): \"))\n",
        "if rating > 3:\n",
        "  print('Item is good')\n",
        "elif rating == 3:\n",
        "  print('Item is average')\n",
        "else:\n",
        "  print('Item is below average')"
      ],
      "metadata": {
        "colab": {
          "base_uri": "https://localhost:8080/"
        },
        "id": "i8eNZe5qgrdl",
        "outputId": "8440c849-c9a3-4945-b023-60322ce379c1"
      },
      "execution_count": null,
      "outputs": [
        {
          "output_type": "stream",
          "name": "stdout",
          "text": [
            "Enter the product rating (1-5): 5\n",
            "Item is good\n"
          ]
        }
      ]
    },
    {
      "cell_type": "code",
      "source": [
        "#36 Avg sales\n",
        "\n",
        "sales1 = 50\n",
        "sales2 = 75\n",
        "sales3 = 100\n",
        "average = (sales1 + sales2 + sales3) / 3\n",
        "print(f\"Average sales: {average}\")"
      ],
      "metadata": {
        "colab": {
          "base_uri": "https://localhost:8080/"
        },
        "id": "MjjG59XohNF6",
        "outputId": "31bbdd05-4899-4933-e532-e8f9aab5afb4"
      },
      "execution_count": null,
      "outputs": [
        {
          "output_type": "stream",
          "name": "stdout",
          "text": [
            "Average sales: 75.0\n"
          ]
        }
      ]
    },
    {
      "cell_type": "code",
      "source": [
        "#37 Simple Inv Return\n",
        "\n",
        "principal = 500\n",
        "rate = 4\n",
        "time = 3\n",
        "interest = (principal * rate * time) / 100\n",
        "total = principal + interest\n",
        "print(f\"Total amount after 3 years: {total}\")"
      ],
      "metadata": {
        "colab": {
          "base_uri": "https://localhost:8080/"
        },
        "id": "LhIrM-kLhck2",
        "outputId": "fed04467-7615-4884-f12a-fb022d092867"
      },
      "execution_count": null,
      "outputs": [
        {
          "output_type": "stream",
          "name": "stdout",
          "text": [
            "Total amount after 3 years: 560.0\n"
          ]
        }
      ]
    },
    {
      "cell_type": "code",
      "source": [
        "#38 Party planning\n",
        "\n",
        "guests = 10\n",
        "slices_per_cake = 8\n",
        "x = (guests + slices_per_cake - 1) // slices_per_cake\n",
        "print(f\"Cakes needed: {x}\")"
      ],
      "metadata": {
        "colab": {
          "base_uri": "https://localhost:8080/"
        },
        "id": "IrVmFmTrhuzm",
        "outputId": "9eb1783d-c4d0-45bb-8840-efe3da489ae8"
      },
      "execution_count": null,
      "outputs": [
        {
          "output_type": "stream",
          "name": "stdout",
          "text": [
            "Cakes needed: 2\n"
          ]
        }
      ]
    },
    {
      "cell_type": "code",
      "source": [
        "#39 Text Analysis\n",
        "\n",
        "text = input(\"Enter text: \")\n",
        "if len(text) > 10:\n",
        "  print('Message is too long')\n",
        "else:\n",
        "  print('Message is too short')"
      ],
      "metadata": {
        "colab": {
          "base_uri": "https://localhost:8080/"
        },
        "id": "Xa44nVpniHie",
        "outputId": "cc5ea3f1-fd96-450d-839d-b036e5728319"
      },
      "execution_count": null,
      "outputs": [
        {
          "output_type": "stream",
          "name": "stdout",
          "text": [
            "Enter text: just do it\n",
            "Message is too short\n"
          ]
        }
      ]
    },
    {
      "cell_type": "code",
      "source": [
        "#40 Best selling product\n",
        "\n",
        "product_A_sales = 250\n",
        "product_B_sales = 300\n",
        "if product_A_sales > product_B_sales:\n",
        "    print(\"Product A sold more.\")\n",
        "else:\n",
        "    print(\"Product B sold more.\")"
      ],
      "metadata": {
        "colab": {
          "base_uri": "https://localhost:8080/"
        },
        "id": "3KywKSb7i0i5",
        "outputId": "b6ef518d-aba9-4225-9597-0081b15e5ce9"
      },
      "execution_count": null,
      "outputs": [
        {
          "output_type": "stream",
          "name": "stdout",
          "text": [
            "Product B sold more.\n"
          ]
        }
      ]
    },
    {
      "cell_type": "code",
      "source": [
        "#41 Scholarship\n",
        "\n",
        "received = 750\n",
        "total = 1000\n",
        "percentage = (received / total) * 100\n",
        "print(f\"Congratulations! You got {percentage}% scholarship.\")"
      ],
      "metadata": {
        "colab": {
          "base_uri": "https://localhost:8080/"
        },
        "id": "V3Lu0RInjGO-",
        "outputId": "2d03bdcf-528e-49a9-a7d1-9bc3273aaf5c"
      },
      "execution_count": null,
      "outputs": [
        {
          "output_type": "stream",
          "name": "stdout",
          "text": [
            "Congratulations! You got 75.0% scholarship.\n"
          ]
        }
      ]
    },
    {
      "cell_type": "code",
      "source": [
        "#42 variable\n",
        "\n",
        "favorite_color = \"Blue\"\n",
        "print(favorite_color)"
      ],
      "metadata": {
        "colab": {
          "base_uri": "https://localhost:8080/"
        },
        "id": "gzwS-zU2jZv2",
        "outputId": "7f977f9a-db0a-486c-bb3a-e0da84618b01"
      },
      "execution_count": null,
      "outputs": [
        {
          "output_type": "stream",
          "name": "stdout",
          "text": [
            "Blue\n"
          ]
        }
      ]
    },
    {
      "cell_type": "code",
      "source": [
        "#43 Arithmetic\n",
        "a = 10\n",
        "b = 20\n",
        "print(\"Sum:\", a + b)"
      ],
      "metadata": {
        "colab": {
          "base_uri": "https://localhost:8080/"
        },
        "id": "rHr87cbIjpg2",
        "outputId": "b6c2508f-7ed0-4d23-d7d3-138b743aa94e"
      },
      "execution_count": null,
      "outputs": [
        {
          "output_type": "stream",
          "name": "stdout",
          "text": [
            "Sum: 30\n"
          ]
        }
      ]
    },
    {
      "cell_type": "code",
      "source": [
        "#44 Area rectangle\n",
        "\n",
        "length = 12\n",
        "width = 6\n",
        "area = length * width\n",
        "print(f\"Area of the rectangle is {area}\")"
      ],
      "metadata": {
        "colab": {
          "base_uri": "https://localhost:8080/"
        },
        "id": "KLTV9yPvjuAj",
        "outputId": "d4266a68-7e2d-4369-8abe-b41ffdc39902"
      },
      "execution_count": null,
      "outputs": [
        {
          "output_type": "stream",
          "name": "stdout",
          "text": [
            "Area of the rectangle is 72\n"
          ]
        }
      ]
    },
    {
      "cell_type": "code",
      "source": [
        "#45 Odd or even\n",
        "\n",
        "num = 15\n",
        "if num % 2 == 0:\n",
        "    print(\"Even number\")\n",
        "else:\n",
        "    print(\"Odd number\")"
      ],
      "metadata": {
        "colab": {
          "base_uri": "https://localhost:8080/"
        },
        "id": "wFH8l1yWj9OC",
        "outputId": "79145e18-99b6-4746-a0a4-e3d2f63d623b"
      },
      "execution_count": null,
      "outputs": [
        {
          "output_type": "stream",
          "name": "stdout",
          "text": [
            "Odd number\n"
          ]
        }
      ]
    },
    {
      "cell_type": "code",
      "source": [
        "#46 Average\n",
        "\n",
        "a, b, c = 10, 20, 30\n",
        "average = (a + b + c) / 3\n",
        "print(f\"Average: {average}\")"
      ],
      "metadata": {
        "colab": {
          "base_uri": "https://localhost:8080/"
        },
        "id": "fRc3eW7PkKx6",
        "outputId": "755c7738-8784-4e85-c21a-41f41ffedeee"
      },
      "execution_count": null,
      "outputs": [
        {
          "output_type": "stream",
          "name": "stdout",
          "text": [
            "Average: 20.0\n"
          ]
        }
      ]
    },
    {
      "cell_type": "code",
      "source": [
        "#47 Area of circle\n",
        "\n",
        "radius = 7\n",
        "pi = 3.14\n",
        "area = pi * (radius ** 2)\n",
        "print(area)"
      ],
      "metadata": {
        "colab": {
          "base_uri": "https://localhost:8080/"
        },
        "id": "AmJdnDuIkSTj",
        "outputId": "024239bc-9427-4555-b6ba-cc5c9fa83f6d"
      },
      "execution_count": null,
      "outputs": [
        {
          "output_type": "stream",
          "name": "stdout",
          "text": [
            "153.86\n"
          ]
        }
      ]
    },
    {
      "cell_type": "code",
      "source": [
        "#48 Check string length\n",
        "\n",
        "x = 'Python'\n",
        "leng = len(x)\n",
        "if leng > 6:\n",
        "  print('String has more than six characters')\n",
        "elif leng == 6:\n",
        "  print('String has six characters')\n",
        "else:\n",
        "  print('String has less than six characters')"
      ],
      "metadata": {
        "colab": {
          "base_uri": "https://localhost:8080/"
        },
        "id": "_k4bPtf5kpnK",
        "outputId": "bf39e7e2-2551-485f-b2c7-e326a062c80c"
      },
      "execution_count": null,
      "outputs": [
        {
          "output_type": "stream",
          "name": "stdout",
          "text": [
            "String has six characters\n"
          ]
        }
      ]
    },
    {
      "cell_type": "code",
      "source": [
        "#49 Max of two numbers\n",
        "\n",
        "x = 15\n",
        "y = 25\n",
        "max = max(x, y)\n",
        "print(f\"The maximum is {max}\")"
      ],
      "metadata": {
        "colab": {
          "base_uri": "https://localhost:8080/"
        },
        "id": "a37GXU9IlMPL",
        "outputId": "ccbde608-a70c-4e32-e660-183fcfb1d520"
      },
      "execution_count": null,
      "outputs": [
        {
          "output_type": "stream",
          "name": "stdout",
          "text": [
            "The maximum is 25\n"
          ]
        }
      ]
    },
    {
      "cell_type": "code",
      "source": [
        "#50 Calculate percentage\n",
        "\n",
        "x = 500\n",
        "y = 400\n",
        "percentage = (y / x) * 100\n",
        "print(f\"Percentage: {percentage}%\")"
      ],
      "metadata": {
        "colab": {
          "base_uri": "https://localhost:8080/"
        },
        "id": "gKDJBKSjlcW-",
        "outputId": "d42a5149-3c9b-4263-b8c4-c1318d4b943a"
      },
      "execution_count": null,
      "outputs": [
        {
          "output_type": "stream",
          "name": "stdout",
          "text": [
            "Percentage: 80.0%\n"
          ]
        }
      ]
    }
  ]
}